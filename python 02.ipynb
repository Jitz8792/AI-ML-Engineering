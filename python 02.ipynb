{
 "cells": [
  {
   "cell_type": "markdown",
   "metadata": {},
   "source": [
    "Python program to check whether the string is Symmetrical or Palindrome"
   ]
  },
  {
   "cell_type": "code",
   "execution_count": 2,
   "metadata": {},
   "outputs": [
    {
     "name": "stdout",
     "output_type": "stream",
     "text": [
      "Symmetrical\n",
      "Palindrome\n"
     ]
    }
   ],
   "source": [
    "s = \"abaaba\"\n",
    "\n",
    "# Check if symmetrical\n",
    "half = len(s) // 2\n",
    "sym = s[:half] == s[half:] if len(s) % 2 == 0 else s[:half] == s[half+1:]\n",
    "\n",
    "# Check if palindrome\n",
    "pal = s == s[::-1]\n",
    "\n",
    "print(\"Symmetrical\" if sym else \"Not Symmetrical\")\n",
    "print(\"Palindrome\" if pal else \"Not Palindrome\")"
   ]
  },
  {
   "cell_type": "markdown",
   "metadata": {},
   "source": [
    "Find Length of String in Python"
   ]
  },
  {
   "cell_type": "code",
   "execution_count": 9,
   "metadata": {},
   "outputs": [
    {
     "name": "stdout",
     "output_type": "stream",
     "text": [
      "arun\n",
      "4\n"
     ]
    }
   ],
   "source": [
    "s=input(\"Enter string\")\n",
    "length=len(s)\n",
    "print(s)\n",
    "print(length)\n",
    "\n"
   ]
  },
  {
   "cell_type": "markdown",
   "metadata": {},
   "source": [
    "Reverse Words in a Given String in Python"
   ]
  },
  {
   "cell_type": "code",
   "execution_count": 27,
   "metadata": {},
   "outputs": [
    {
     "name": "stdout",
     "output_type": "stream",
     "text": [
      "['Geeks', 'for', 'Geeks']\n",
      "['Geeks', 'for', 'Geeks']\n",
      "Geeks for Geeks\n"
     ]
    }
   ],
   "source": [
    "s=input(\"Enter string\")\n",
    "\n",
    "s1=s.split()\n",
    "print(s1)\n",
    "\n",
    "reverse=s1[::-1]\n",
    "print(reverse)\n",
    "newstring = \" \".join(reverse)\n",
    "print(newstring)\n",
    "\n"
   ]
  },
  {
   "cell_type": "markdown",
   "metadata": {},
   "source": [
    "How to Remove Letters From a String in Python"
   ]
  },
  {
   "cell_type": "code",
   "execution_count": 29,
   "metadata": {},
   "outputs": [
    {
     "name": "stdout",
     "output_type": "stream",
     "text": [
      " hell wrld\n"
     ]
    }
   ],
   "source": [
    "s=input()  #hello world\n",
    "str=\" \"\n",
    "for char in s:\n",
    "    if \"o\"!=char:\n",
    "        str+=char\n",
    "print(str)        \n"
   ]
  }
 ],
 "metadata": {
  "kernelspec": {
   "display_name": "Python 3",
   "language": "python",
   "name": "python3"
  },
  "language_info": {
   "codemirror_mode": {
    "name": "ipython",
    "version": 3
   },
   "file_extension": ".py",
   "mimetype": "text/x-python",
   "name": "python",
   "nbconvert_exporter": "python",
   "pygments_lexer": "ipython3",
   "version": "3.13.1"
  }
 },
 "nbformat": 4,
 "nbformat_minor": 2
}
