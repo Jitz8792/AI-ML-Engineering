{
 "cells": [
  {
   "cell_type": "markdown",
   "metadata": {},
   "source": [
    "Python program to check whether the string is Symmetrical or Palindrome"
   ]
  },
  {
   "cell_type": "code",
   "execution_count": 2,
   "metadata": {},
   "outputs": [
    {
     "name": "stdout",
     "output_type": "stream",
     "text": [
      "Symmetrical\n",
      "Palindrome\n"
     ]
    }
   ],
   "source": [
    "s = \"abaaba\"\n",
    "\n",
    "# Check if symmetrical\n",
    "half = len(s) // 2\n",
    "sym = s[:half] == s[half:] if len(s) % 2 == 0 else s[:half] == s[half+1:]\n",
    "\n",
    "# Check if palindrome\n",
    "pal = s == s[::-1]\n",
    "\n",
    "print(\"Symmetrical\" if sym else \"Not Symmetrical\")\n",
    "print(\"Palindrome\" if pal else \"Not Palindrome\")"
   ]
  }
 ],
 "metadata": {
  "kernelspec": {
   "display_name": "Python 3",
   "language": "python",
   "name": "python3"
  },
  "language_info": {
   "codemirror_mode": {
    "name": "ipython",
    "version": 3
   },
   "file_extension": ".py",
   "mimetype": "text/x-python",
   "name": "python",
   "nbconvert_exporter": "python",
   "pygments_lexer": "ipython3",
   "version": "3.13.1"
  }
 },
 "nbformat": 4,
 "nbformat_minor": 2
}
